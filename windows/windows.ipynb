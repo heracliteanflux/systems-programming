{
 "cells": [
  {
   "cell_type": "markdown",
   "metadata": {},
   "source": [
    "# Windows"
   ]
  },
  {
   "cell_type": "markdown",
   "metadata": {},
   "source": [
    "---"
   ]
  },
  {
   "cell_type": "markdown",
   "metadata": {},
   "source": [
    "* [ [h](https://cygwin.com/) ] Cygwin\n",
    "* [ [h](https://mintty.github.io/) ][ [g](https://github.com/mintty) ] Mintty\n",
    "* [ [h](https://www.msys2.org/) ][ [g](https://github.com/msys2) ] MSYS2\n",
    "* [ [h](https://ohmyposh.dev/) ] Oh My Posh\n",
    "  * [ [d](https://ohmyposh.dev/docs/installation/windows) ] Installation - Windows\n",
    "  * [ [d](https://ohmyposh.dev/docs/installation/fonts) ] Installation - Fonts\n",
    "  * [ [d](https://ohmyposh.dev/docs/installation/customize) ] Installation - Customize\n",
    "  * [ [d](https://ohmyposh.dev/docs/segments/python) ] Segments - Python\n",
    "* [ [d](https://wiki.archlinux.org/title/pacman) ] Pacman\n",
    "* [ [h](https://scoop.sh/) ] Scoop\n",
    "* [ [d](https://learn.microsoft.com/en-us/windows/wsl/) ] Windows Sybsystem for Linux (WSL)\n",
    "\n",
    "Parallels\n",
    "* [ [p](https://www.parallels.com/products/desktop/welcome-win/) ] Windows 11 Installed Successfully\n",
    "* [ [d](https://kb.parallels.com/114051) ] Activate Windows 11 after installation in Parallels Desktop\n",
    "* [ [d](https://kb.parallels.com/en/129497) ] Limitations of running Windows 11 on Apple silicon Mac computers in Parallels Desktop for Mac\n",
    "* [ [d](https://kb.parallels.com/4670) ] What is Coherence? Information about Coherence View mode\n",
    "* [ [d](https://kb.parallels.com/en/115171) ] Full Screen view mode in Parallels Desktop for Mac\n",
    "* [ [d](https://kb.parallels.com/6912) ] Use Mac user files in Windows"
   ]
  },
  {
   "cell_type": "markdown",
   "metadata": {},
   "source": [
    "---"
   ]
  },
  {
   "cell_type": "markdown",
   "metadata": {},
   "source": [
    "## PowerShell"
   ]
  },
  {
   "cell_type": "markdown",
   "metadata": {},
   "source": [
    "### Scoop\n",
    "\n",
    "```powershell\n",
    "PS> Set-ExecutionPolicy RemoteSigned -Scope CurrentUser\n",
    "PS> irm get.scoop.sh | iex\n",
    "```\n",
    "```powershell\n",
    "Initializing...\n",
    "Downloading ...\n",
    "Creating shim...\n",
    "Adding ~\\scoop\\shims to your path.\n",
    "Scoop was installed successfully!\n",
    "Type 'scoop help' for instructions.\n",
    "```\n",
    "\n",
    "### bat\n",
    "\n",
    "```powershell\n",
    "PS> scoop install main/bat\n",
    "```\n",
    "```powershell\n",
    "Installing 'bat' (0.23.0) [64bit] from main bucket\n",
    "bat-v0.23.0-x86_64-pc-windows-msvc.zip (2.8 MB) [=================================================================================] 100%\n",
    "Checking hash of bat-v0.23.0-x86_64-pc-windows-msvc.zip ... ok.\n",
    "Extracting bat-v0.23.0-x86_64-pc-windows-msvc.zip ... done.\n",
    "Linking ~\\scoop\\apps\\bat\\current => ~\\scoop\\apps\\bat\\0.23.0\n",
    "Creating shim for 'bat'.\n",
    "'bat' (0.23.0) was installed successfully!\n",
    "'bat' suggests installing 'less'\n",
    "```\n",
    "\n",
    "### lsd\n",
    "\n",
    "```powershell\n",
    "PS> scoop install main/lsd\n",
    "```\n",
    "```powershell\n",
    "Installing 'lsd' (0.23.1) [64bit] from main bucket\n",
    "lsd-0.23.1-x86_64-pc-windows-msvc.zip (980.6 KB) [================================================================================] 100%\n",
    "Checking hash of lsd-0.23.1-x86_64-pc-windows-msvc.zip ... ok.\n",
    "Extracting lsd-0.23.1-x86_64-pc-windows-msvc.zip ... done.\n",
    "Linking ~\\scoop\\apps\\lsd\\current => ~\\scoop\\apps\\lsd\\0.23.1\n",
    "Creating shim for 'lsd'.\n",
    "'lsd' (0.23.1) was installed successfully!\n",
    "'lsd' suggests installing 'extras/vcredist2022'.\n",
    "```\n",
    "\n",
    "### tre\n",
    "\n",
    "```powershell\n",
    "PS> scoop install main/tre-command\n",
    "```\n",
    "```powershell\n",
    "Installing 'tre-command' (0.4.0) [64bit] from main bucket\n",
    "tre-v0.4.0-x86_64-pc-windows-msvc.zip (667.5 KB) [================================================================================] 100%\n",
    "Checking hash of tre-v0.4.0-x86_64-pc-windows-msvc.zip ... ok.\n",
    "Extracting tre-v0.4.0-x86_64-pc-windows-msvc.zip ... done.\n",
    "Linking ~\\scoop\\apps\\tre-command\\current => ~\\scoop\\apps\\tre-command\\0.4.0\n",
    "Creating shim for 'tre'.\n",
    "'tre-command' (0.4.0) was installed successfully!\n",
    "'tre-command' suggests installing 'extras/vcredist2022'.\n",
    "```\n",
    "\n",
    "### Oh My Posh\n",
    "\n",
    "```powershell\n",
    "PS> winget install JanDeDobbeleer.OhMyPosh -s winget\n",
    "PS> oh-my-posh font install\n",
    "PS> oh-my-posh config export --config $POSH_THEMES_PATH/jandedobbeleer.omp.json --output ~/.mytheme.omp.json\n",
    "PS> oh-my-posh init pwsh --config \"$env:POSH_THEMES_PATH/jandedobbeleer.omp.json\" | Invoke-Expression\n",
    "```\n",
    "```vim\n",
    "$ vim .bashrc\n",
    "```\n",
    "```vim\n",
    "eval \"$(oh-my-posh init bash --config $HOME/.mytheme.omp.json)\"\n",
    "#eval \"$(oh-my-posh init bash)\" # default\n",
    "```\n",
    "```vim\n",
    "$ vim .mytheme.omp.json\n",
    "```\n",
    "```json\n",
    "{\n",
    "  \"type\": \"python\",\n",
    "  \"style\": \"powerline\",\n",
    "  \"powerline_symbol\": \"\\ue0b0\",\n",
    "  \"foreground\": \"#111111\",\n",
    "  \"background\": \"#FFDE57\",\n",
    "  \"template\": \" \\ue235 {{ if .Error }}{{ .Error }}{{ else }}{{ if .Venv }}{{ .Venv }} {{ end }}{{ .Full }}{{ end }}\",\n",
    "  \"properties\": {\n",
    "    \"display_default\": true,\n",
    "    \"display_mode\": \"environment\",\n",
    "    \"fetch_version\": true,\n",
    "    \"fetch_virtual_env\": true,\n",
    "    \"home_enabled\": true\n",
    "  }\n",
    "}\n",
    "```"
   ]
  },
  {
   "cell_type": "markdown",
   "metadata": {},
   "source": [
    "## Git Bash"
   ]
  },
  {
   "cell_type": "markdown",
   "metadata": {},
   "source": [
    "```bash\n",
    "$ uname -o\n",
    "```\n",
    "```bash\n",
    "Msys\n",
    "```"
   ]
  },
  {
   "cell_type": "markdown",
   "metadata": {},
   "source": [
    "## Conda"
   ]
  },
  {
   "cell_type": "markdown",
   "metadata": {},
   "source": [
    "```bash\n",
    "$ conda init\n",
    "```\n",
    "```bash\n",
    "no change     C:\\Users\\df\\anaconda3\\Scripts\\conda.exe\n",
    "no change     C:\\Users\\df\\anaconda3\\Scripts\\conda-env.exe\n",
    "no change     C:\\Users\\df\\anaconda3\\Scripts\\conda-script.py\n",
    "no change     C:\\Users\\df\\anaconda3\\Scripts\\conda-env-script.py\n",
    "no change     C:\\Users\\df\\anaconda3\\condabin\\conda.bat\n",
    "no change     C:\\Users\\df\\anaconda3\\Library\\bin\\conda.bat\n",
    "no change     C:\\Users\\df\\anaconda3\\condabin\\_conda_activate.bat\n",
    "no change     C:\\Users\\df\\anaconda3\\condabin\\rename_tmp.bat\n",
    "no change     C:\\Users\\df\\anaconda3\\condabin\\conda_auto_activate.bat\n",
    "no change     C:\\Users\\df\\anaconda3\\condabin\\conda_hook.bat\n",
    "no change     C:\\Users\\df\\anaconda3\\Scripts\\activate.bat\n",
    "no change     C:\\Users\\df\\anaconda3\\condabin\\activate.bat\n",
    "no change     C:\\Users\\df\\anaconda3\\condabin\\deactivate.bat\n",
    "modified      C:\\Users\\df\\anaconda3\\Scripts\\activate\n",
    "modified      C:\\Users\\df\\anaconda3\\Scripts\\deactivate\n",
    "modified      C:\\Users\\df\\anaconda3\\etc\\profile.d\\conda.sh\n",
    "modified      C:\\Users\\df\\anaconda3\\etc\\fish\\conf.d\\conda.fish\n",
    "no change     C:\\Users\\df\\anaconda3\\shell\\condabin\\Conda.psm1\n",
    "modified      C:\\Users\\df\\anaconda3\\shell\\condabin\\conda-hook.ps1\n",
    "no change     C:\\Users\\df\\anaconda3\\Lib\\site-packages\\xontrib\\conda.xsh\n",
    "modified      C:\\Users\\df\\anaconda3\\etc\\profile.d\\conda.csh\n",
    "modified      \\\\Mac\\Home\\Documents\\WindowsPowerShell\\profile.ps1\n",
    "modified      HKEY_CURRENT_USER\\Software\\Microsoft\\Command Processor\\AutoRun\n",
    "\n",
    "==> For changes to take effect, close and re-open your current shell. <==\n",
    "```\n",
    "```bash\n",
    "$ conda init bash\n",
    "```\n",
    "```bash\n",
    "no change     C:\\Users\\df\\anaconda3\\Scripts\\conda.exe\n",
    "no change     C:\\Users\\df\\anaconda3\\Scripts\\conda-env.exe\n",
    "no change     C:\\Users\\df\\anaconda3\\Scripts\\conda-script.py\n",
    "no change     C:\\Users\\df\\anaconda3\\Scripts\\conda-env-script.py\n",
    "no change     C:\\Users\\df\\anaconda3\\condabin\\conda.bat\n",
    "no change     C:\\Users\\df\\anaconda3\\Library\\bin\\conda.bat\n",
    "no change     C:\\Users\\df\\anaconda3\\condabin\\_conda_activate.bat\n",
    "no change     C:\\Users\\df\\anaconda3\\condabin\\rename_tmp.bat\n",
    "no change     C:\\Users\\df\\anaconda3\\condabin\\conda_auto_activate.bat\n",
    "no change     C:\\Users\\df\\anaconda3\\condabin\\conda_hook.bat\n",
    "no change     C:\\Users\\df\\anaconda3\\Scripts\\activate.bat\n",
    "no change     C:\\Users\\df\\anaconda3\\condabin\\activate.bat\n",
    "no change     C:\\Users\\df\\anaconda3\\condabin\\deactivate.bat\n",
    "no change     C:\\Users\\df\\anaconda3\\Scripts\\activate\n",
    "no change     C:\\Users\\df\\anaconda3\\Scripts\\deactivate\n",
    "no change     C:\\Users\\df\\anaconda3\\etc\\profile.d\\conda.sh\n",
    "no change     C:\\Users\\df\\anaconda3\\etc\\fish\\conf.d\\conda.fish\n",
    "no change     C:\\Users\\df\\anaconda3\\shell\\condabin\\Conda.psm1\n",
    "no change     C:\\Users\\df\\anaconda3\\shell\\condabin\\conda-hook.ps1\n",
    "no change     C:\\Users\\df\\anaconda3\\Lib\\site-packages\\xontrib\\conda.xsh\n",
    "no change     C:\\Users\\df\\anaconda3\\etc\\profile.d\\conda.csh\n",
    "modified      C:\\Users\\df\\.bash_profile\n",
    "\n",
    "==> For changes to take effect, close and re-open your current shell. <==\n",
    "```\n",
    "\n",
    "```bash\n",
    "conda update  -n base -c defaults conda &&\n",
    "conda install -n base conda-libmamba-solver &&\n",
    "conda config --set solver libmamba &&\n",
    "conda config --add channels conda-forge &&\n",
    "conda config --set channel_priority strict\n",
    "```"
   ]
  },
  {
   "cell_type": "markdown",
   "metadata": {},
   "source": [
    "---"
   ]
  },
  {
   "cell_type": "markdown",
   "metadata": {},
   "source": [
    "VS Code\n",
    "\n",
    "`settings.json`\n",
    "* `%APPDATA%\\Code\\User\\settings.json`"
   ]
  },
  {
   "cell_type": "markdown",
   "metadata": {},
   "source": [
    "---"
   ]
  }
 ],
 "metadata": {
  "language_info": {
   "name": "python"
  },
  "orig_nbformat": 4
 },
 "nbformat": 4,
 "nbformat_minor": 2
}
