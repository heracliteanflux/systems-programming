{
 "cells": [
  {
   "cell_type": "markdown",
   "metadata": {},
   "source": [
    "# Linux"
   ]
  },
  {
   "cell_type": "markdown",
   "metadata": {},
   "source": [
    "---"
   ]
  },
  {
   "cell_type": "markdown",
   "metadata": {},
   "source": [
    "## Bash"
   ]
  },
  {
   "cell_type": "markdown",
   "metadata": {},
   "source": [
    "Special parameters\n",
    "* `$-` the shell is interactive if the value contains an `i`\n",
    "* `$?` return value of previous command\n",
    "* `$0` shell?\n",
    "\n",
    "Builtin commands\n",
    "* `sh`\n",
    "  * `[` or `test`\n",
    "  * `.` or `source`\n",
    "  * `:`\n",
    "  * `break`\n",
    "  * `cd`\n",
    "  * `continue`\n",
    "  * `eval`\n",
    "  * `exec`\n",
    "  * `exit`\n",
    "  * `export`\n",
    "  * `getopts`\n",
    "  * `hash`\n",
    "  * `pwd`\n",
    "  * `readonly`\n",
    "  * `return`\n",
    "  * `set`\n",
    "  * `shift`\n",
    "  * `times`\n",
    "  * `trap`\n",
    "  * `umask`\n",
    "  * `unset` removes variables\n",
    "* `bash`\n",
    "  * `alias`\n",
    "  * `bind`\n",
    "  * `builtin`\n",
    "  * `command`\n",
    "  * `declare` creates variables\n",
    "  * `echo`\n",
    "  * `enable`\n",
    "  * `help`\n",
    "  * `let`\n",
    "  * `local`\n",
    "  * `logout`\n",
    "  * `printf`\n",
    "  * `read`\n",
    "  * `shopt`\n",
    "  * `type`\n",
    "  * `typeset`\n",
    "  * `ulimit`\n",
    "  * `unalias`\n",
    "* special\n",
    "\n",
    "Environment variables\n",
    "* `BASH_ENV`\n",
    "* `ENV`\n",
    "* `PATH`\n",
    "* `SHELL`\n",
    "* `SHELLOPTS`\n",
    "\n",
    "Conditional\n",
    "* `[[` compound command\n",
    "* `test` builtin\n",
    "* `[` builtin\n",
    "* unary, binary expression\n",
    "* unary expressions are often used to examine the status of a file\n",
    "\n",
    "File descriptors\n",
    "* `0` `/dev/stdin`\n",
    "* `1` `/dev/stdout`\n",
    "* `2` `/dev/stderr`\n",
    "* `N` `/dev/fd/N`\n",
    "\n",
    "Arithmetic\n",
    "* expansion\n",
    "* `let` builtin\n",
    "* evaluation is done in fixed-width integers with no check for overflow; division by zero is trapped and flagged as an error; operators and their precedence and associativity follow C\n",
    "\n",
    "Arrays\n",
    "* one-dimensional\n",
    "* zero-indexed\n",
    "* `declare` builtin\n",
    "\n",
    "directory stack\n",
    "* `pushd` builtin\n",
    "* `popd` builtin\n",
    "* `dirs` command\n",
    "\n",
    "redirection\n",
    "* `>`\n",
    "* `>|`\n",
    "* `><`\n",
    "* `>&`\n",
    "* `&>`\n",
    "* `>>`"
   ]
  },
  {
   "cell_type": "markdown",
   "metadata": {},
   "source": [
    "---"
   ]
  }
 ],
 "metadata": {
  "language_info": {
   "name": "python"
  },
  "orig_nbformat": 4
 },
 "nbformat": 4,
 "nbformat_minor": 2
}
